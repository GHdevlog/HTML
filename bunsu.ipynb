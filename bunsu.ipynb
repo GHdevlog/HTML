{
 "cells": [
  {
   "cell_type": "code",
   "execution_count": null,
   "metadata": {},
   "outputs": [],
   "source": [
    "a = 10\n",
    "b=20\n",
    "c=30\n",
    "d=40"
   ]
  },
  {
   "cell_type": "code",
   "execution_count": 2,
   "metadata": {},
   "outputs": [
    {
     "name": "stdout",
     "output_type": "stream",
     "text": [
      "140721760717240\n",
      "140721760717272\n",
      "140721760717304\n",
      "140721760717336\n",
      "140721760717368\n",
      "\n",
      "140721760717240\n",
      "140721760717304\n",
      "140721760717336\n",
      "140721760717368\n"
     ]
    }
   ],
   "source": [
    "mylist = [1,2,3,4,5]\n",
    "\n",
    "for num in mylist:\n",
    "    print(id(num))\n",
    "    \n",
    "mylist.pop(1)\n",
    "print()\n",
    "\n",
    "for num in mylist:\n",
    "    print(id(num))"
   ]
  }
 ],
 "metadata": {
  "kernelspec": {
   "display_name": "Python 3",
   "language": "python",
   "name": "python3"
  },
  "language_info": {
   "codemirror_mode": {
    "name": "ipython",
    "version": 3
   },
   "file_extension": ".py",
   "mimetype": "text/x-python",
   "name": "python",
   "nbconvert_exporter": "python",
   "pygments_lexer": "ipython3",
   "version": "3.12.2"
  }
 },
 "nbformat": 4,
 "nbformat_minor": 2
}
